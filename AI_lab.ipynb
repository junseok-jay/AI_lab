{
  "nbformat": 4,
  "nbformat_minor": 0,
  "metadata": {
    "colab": {
      "provenance": [],
      "gpuType": "T4",
      "mount_file_id": "1yZgW2Lyi8--OsWcWdq2qwDrv8zwKr966",
      "authorship_tag": "ABX9TyNCXyJOLnTe1R0WTRu6aJje",
      "include_colab_link": true
    },
    "kernelspec": {
      "name": "python3",
      "display_name": "Python 3"
    },
    "language_info": {
      "name": "python"
    },
    "accelerator": "GPU"
  },
  "cells": [
    {
      "cell_type": "markdown",
      "metadata": {
        "id": "view-in-github",
        "colab_type": "text"
      },
      "source": [
        "<a href=\"https://colab.research.google.com/github/junseok-jay/AI_lab/blob/main/AI_lab.ipynb\" target=\"_parent\"><img src=\"https://colab.research.google.com/assets/colab-badge.svg\" alt=\"Open In Colab\"/></a>"
      ]
    },
    {
      "cell_type": "code",
      "source": [
        "# Check if PyTorch is available and import it\n",
        "try:\n",
        "    import torch\n",
        "    print(\"✓ PyTorch is successfully imported!\")\n",
        "    print(f\"PyTorch version: {torch.__version__}\")\n",
        "\n",
        "    # Check if CUDA is available\n",
        "    if torch.cuda.is_available():\n",
        "        print(f\"✓ CUDA is available! Device count: {torch.cuda.device_count()}\")\n",
        "        print(f\"Current CUDA device: {torch.cuda.get_device_name(0)}\")\n",
        "        device = torch.device(\"cuda\")\n",
        "        # turn cpu to cuda:0 in device\n",
        "    else:\n",
        "        print(\"CUDA is not available. Using CPU.\")\n",
        "\n",
        "    # Create a simple tensor to test basic functionality\n",
        "    test_tensor = torch.tensor([1, 2, 3, 4, 5], device = device)\n",
        "    # create tensor base cuda\n",
        "    print(f\"✓ Test tensor created: {test_tensor}\")\n",
        "    print(f\"Tensor shape: {test_tensor.shape}\")\n",
        "    print(f\"Tensor device: {test_tensor.device}\")\n",
        "\n",
        "    # Basic tensor operation\n",
        "    squared_tensor = test_tensor ** 2\n",
        "    print(f\"✓ Basic operation test (squaring): {squared_tensor}\")\n",
        "    print(f\"squared_tensor device: {squared_tensor.device}\")\n",
        "\n",
        "\n",
        "    print(\"\\n🎉 PyTorch is working correctly!\")\n",
        "\n",
        "except ImportError as e:\n",
        "    print(\"❌ PyTorch is not installed or not available\")\n",
        "    print(f\"Error details: {e}\")\n",
        "    print(\"Please install PyTorch using: pip install torch\")\n",
        "\n",
        "except Exception as e:\n",
        "    print(f\"❌ An error occurred while testing PyTorch: {e}\")"
      ],
      "metadata": {
        "colab": {
          "base_uri": "https://localhost:8080/"
        },
        "id": "nilXXI4SRgml",
        "outputId": "7fb6957b-f603-42a7-d65b-ef35e6801041"
      },
      "execution_count": null,
      "outputs": [
        {
          "output_type": "stream",
          "name": "stdout",
          "text": [
            "✓ PyTorch is successfully imported!\n",
            "PyTorch version: 2.8.0+cu126\n",
            "✓ CUDA is available! Device count: 1\n",
            "Current CUDA device: Tesla T4\n",
            "✓ Test tensor created: tensor([1, 2, 3, 4, 5], device='cuda:0')\n",
            "Tensor shape: torch.Size([5])\n",
            "Tensor device: cuda:0\n",
            "✓ Basic operation test (squaring): tensor([ 1,  4,  9, 16, 25], device='cuda:0')\n",
            "squared_tensor device: cuda:0\n",
            "\n",
            "🎉 PyTorch is working correctly!\n"
          ]
        }
      ]
    }
  ]
}