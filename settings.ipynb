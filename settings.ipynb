{
  "nbformat": 4,
  "nbformat_minor": 0,
  "metadata": {
    "colab": {
      "provenance": [],
      "gpuType": "T4",
      "mount_file_id": "1yZgW2Lyi8--OsWcWdq2qwDrv8zwKr966",
      "authorship_tag": "ABX9TyNUhRMDgoDyDgcXx0KAWmhh",
      "include_colab_link": true
    },
    "kernelspec": {
      "name": "python3",
      "display_name": "Python 3"
    },
    "language_info": {
      "name": "python"
    },
    "accelerator": "GPU"
  },
  "cells": [
    {
      "cell_type": "markdown",
      "metadata": {
        "id": "view-in-github",
        "colab_type": "text"
      },
      "source": [
        "<a href=\"https://colab.research.google.com/github/junseok-jay/AI_lab/blob/main/settings.ipynb\" target=\"_parent\"><img src=\"https://colab.research.google.com/assets/colab-badge.svg\" alt=\"Open In Colab\"/></a>"
      ]
    },
    {
      "cell_type": "code",
      "source": [
        "import sys\n",
        "import torch\n",
        "\n",
        "print(\"✓ Python version:\", sys.version.split()[0])\n",
        "print(\"✓ PyTorch version:\", torch.__version__)\n",
        "print(\"✓ CUDA available:\", torch.cuda.is_available())\n",
        "if torch.cuda.is_available():\n",
        "    print(\"✓ CUDA device name:\", torch.cuda.get_device_name(0))\n"
      ],
      "metadata": {
        "colab": {
          "base_uri": "https://localhost:8080/"
        },
        "id": "qYBG5aqmk_Mz",
        "outputId": "ffc8c3dd-ff80-4443-aa2a-1d998d56d691"
      },
      "execution_count": 42,
      "outputs": [
        {
          "output_type": "stream",
          "name": "stdout",
          "text": [
            "✓ Python version: 3.12.11\n",
            "✓ PyTorch version: 2.8.0+cu126\n",
            "✓ CUDA available: True\n",
            "✓ CUDA device name: Tesla T4\n"
          ]
        }
      ]
    }
  ]
}