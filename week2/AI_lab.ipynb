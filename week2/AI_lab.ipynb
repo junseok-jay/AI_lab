{
  "nbformat": 4,
  "nbformat_minor": 0,
  "metadata": {
    "colab": {
      "provenance": [],
      "gpuType": "T4",
      "mount_file_id": "1yZgW2Lyi8--OsWcWdq2qwDrv8zwKr966",
      "authorship_tag": "ABX9TyO9xGEYvGwPQsThjiOE40vQ",
      "include_colab_link": true
    },
    "kernelspec": {
      "name": "python3",
      "display_name": "Python 3"
    },
    "language_info": {
      "name": "python"
    },
    "accelerator": "GPU"
  },
  "cells": [
    {
      "cell_type": "markdown",
      "metadata": {
        "id": "view-in-github",
        "colab_type": "text"
      },
      "source": [
        "<a href=\"https://colab.research.google.com/github/junseok-jay/AI_lab/blob/main/week2/AI_lab.ipynb\" target=\"_parent\"><img src=\"https://colab.research.google.com/assets/colab-badge.svg\" alt=\"Open In Colab\"/></a>"
      ]
    },
    {
      "cell_type": "code",
      "source": [
        "import torch\n",
        "\n",
        "\n",
        "print(torch.cuda.device_count())  # 사용 가능한 GPU 개수\n",
        "print(torch.cuda.get_device_name(0))  # 첫 번째 GPU 이름 출력\n",
        "\n",
        "tensor = torch.tensor([1,2,3,4,5], device='cuda') # 텐서를 cuda에 올리기\n",
        "\n",
        "print(tensor)\n",
        "print(tensor.shape)\n",
        "print(tensor.device)\n",
        "\n",
        "sqrt_tensor = tensor**2\n",
        "\n",
        "print(sqrt_tensor)\n",
        "print(sqrt_tensor.shape)\n",
        "print(sqrt_tensor.device)\n"
      ],
      "metadata": {
        "colab": {
          "base_uri": "https://localhost:8080/"
        },
        "id": "nilXXI4SRgml",
        "outputId": "25b8e76a-8551-4db1-eee4-ed70be76fb46"
      },
      "execution_count": 27,
      "outputs": [
        {
          "output_type": "stream",
          "name": "stdout",
          "text": [
            "1\n",
            "Tesla T4\n",
            "tensor([1, 2, 3, 4, 5], device='cuda:0')\n",
            "torch.Size([5])\n",
            "cuda:0\n",
            "tensor([ 1,  4,  9, 16, 25], device='cuda:0')\n",
            "torch.Size([5])\n",
            "cuda:0\n"
          ]
        }
      ]
    },
    {
      "cell_type": "code",
      "source": [],
      "metadata": {
        "id": "sl_721HQiJQb"
      },
      "execution_count": null,
      "outputs": []
    }
  ]
}